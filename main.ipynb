{
 "cells": [
  {
   "cell_type": "markdown",
   "metadata": {},
   "source": [
    "# analysing-git-commits"
   ]
  },
  {
   "cell_type": "code",
   "execution_count": 1,
   "metadata": {},
   "outputs": [],
   "source": [
    "import pandas as pd"
   ]
  },
  {
   "cell_type": "code",
   "execution_count": 3,
   "metadata": {},
   "outputs": [
    {
     "data": {
      "text/html": [
       "<div>\n",
       "<style scoped>\n",
       "    .dataframe tbody tr th:only-of-type {\n",
       "        vertical-align: middle;\n",
       "    }\n",
       "\n",
       "    .dataframe tbody tr th {\n",
       "        vertical-align: top;\n",
       "    }\n",
       "\n",
       "    .dataframe thead th {\n",
       "        text-align: right;\n",
       "    }\n",
       "</style>\n",
       "<table border=\"1\" class=\"dataframe\">\n",
       "  <thead>\n",
       "    <tr style=\"text-align: right;\">\n",
       "      <th></th>\n",
       "      <th>commit</th>\n",
       "      <th>author</th>\n",
       "      <th>date</th>\n",
       "      <th>message</th>\n",
       "      <th>repo</th>\n",
       "    </tr>\n",
       "  </thead>\n",
       "  <tbody>\n",
       "    <tr>\n",
       "      <th>0</th>\n",
       "      <td>692bba578efb5e305c9b116568e5aad75b3fdbb3</td>\n",
       "      <td>Mortada Mehyar &lt;mortada@users.noreply.github.com&gt;</td>\n",
       "      <td>Wed Apr 21 12:27:07 2021 +0800</td>\n",
       "      <td>DOC: add example for plotting asymmetrical err...</td>\n",
       "      <td>pandas-dev/pandas</td>\n",
       "    </tr>\n",
       "    <tr>\n",
       "      <th>1</th>\n",
       "      <td>855696cde0ef5d80a7d4bd3f6a2940c5a2fecb3f</td>\n",
       "      <td>Patrick Hoefler &lt;61934744+phofl@users.noreply....</td>\n",
       "      <td>Wed Apr 21 01:23:07 2021 +0200</td>\n",
       "      <td>Add keyword sort to pivot_table (#40954)</td>\n",
       "      <td>pandas-dev/pandas</td>\n",
       "    </tr>\n",
       "  </tbody>\n",
       "</table>\n",
       "</div>"
      ],
      "text/plain": [
       "                                     commit  \\\n",
       "0  692bba578efb5e305c9b116568e5aad75b3fdbb3   \n",
       "1  855696cde0ef5d80a7d4bd3f6a2940c5a2fecb3f   \n",
       "\n",
       "                                              author  \\\n",
       "0  Mortada Mehyar <mortada@users.noreply.github.com>   \n",
       "1  Patrick Hoefler <61934744+phofl@users.noreply....   \n",
       "\n",
       "                             date  \\\n",
       "0  Wed Apr 21 12:27:07 2021 +0800   \n",
       "1  Wed Apr 21 01:23:07 2021 +0200   \n",
       "\n",
       "                                             message               repo  \n",
       "0  DOC: add example for plotting asymmetrical err...  pandas-dev/pandas  \n",
       "1           Add keyword sort to pivot_table (#40954)  pandas-dev/pandas  "
      ]
     },
     "execution_count": 3,
     "metadata": {},
     "output_type": "execute_result"
    }
   ],
   "source": [
    "raw_commits_full = pd.read_csv('./resources/full.csv')\n",
    "raw_commits_full.head(2)"
   ]
  },
  {
   "cell_type": "code",
   "execution_count": 4,
   "metadata": {},
   "outputs": [
    {
     "data": {
      "text/html": [
       "<div>\n",
       "<style scoped>\n",
       "    .dataframe tbody tr th:only-of-type {\n",
       "        vertical-align: middle;\n",
       "    }\n",
       "\n",
       "    .dataframe tbody tr th {\n",
       "        vertical-align: top;\n",
       "    }\n",
       "\n",
       "    .dataframe thead th {\n",
       "        text-align: right;\n",
       "    }\n",
       "</style>\n",
       "<table border=\"1\" class=\"dataframe\">\n",
       "  <thead>\n",
       "    <tr style=\"text-align: right;\">\n",
       "      <th></th>\n",
       "      <th>commit</th>\n",
       "      <th>message</th>\n",
       "      <th>repo</th>\n",
       "    </tr>\n",
       "  </thead>\n",
       "  <tbody>\n",
       "    <tr>\n",
       "      <th>0</th>\n",
       "      <td>004b44d007408aa2db1fdaf4428990d0d7b7f85a</td>\n",
       "      <td>FIX OneHotEncoder.fit no longer alters the dro...</td>\n",
       "      <td>scikit-learn/scikit-learn</td>\n",
       "    </tr>\n",
       "    <tr>\n",
       "      <th>1</th>\n",
       "      <td>0bd7cedababab7bd70ebacb31d46eccd2371a3bd</td>\n",
       "      <td>ENH Enrich docstring on `inverse_transform` of...</td>\n",
       "      <td>scikit-learn/scikit-learn</td>\n",
       "    </tr>\n",
       "  </tbody>\n",
       "</table>\n",
       "</div>"
      ],
      "text/plain": [
       "                                     commit  \\\n",
       "0  004b44d007408aa2db1fdaf4428990d0d7b7f85a   \n",
       "1  0bd7cedababab7bd70ebacb31d46eccd2371a3bd   \n",
       "\n",
       "                                             message  \\\n",
       "0  FIX OneHotEncoder.fit no longer alters the dro...   \n",
       "1  ENH Enrich docstring on `inverse_transform` of...   \n",
       "\n",
       "                        repo  \n",
       "0  scikit-learn/scikit-learn  \n",
       "1  scikit-learn/scikit-learn  "
      ]
     },
     "execution_count": 4,
     "metadata": {},
     "output_type": "execute_result"
    }
   ],
   "source": [
    "raw_commits_oneline = pd.read_csv('./resources/oneline.csv')\n",
    "raw_commits_oneline.head(2)"
   ]
  },
  {
   "cell_type": "code",
   "execution_count": null,
   "metadata": {},
   "outputs": [],
   "source": []
  }
 ],
 "metadata": {
  "kernelspec": {
   "display_name": "Python 3.8.5 ('base')",
   "language": "python",
   "name": "python3"
  },
  "language_info": {
   "codemirror_mode": {
    "name": "ipython",
    "version": 3
   },
   "file_extension": ".py",
   "mimetype": "text/x-python",
   "name": "python",
   "nbconvert_exporter": "python",
   "pygments_lexer": "ipython3",
   "version": "3.8.5"
  },
  "orig_nbformat": 4,
  "vscode": {
   "interpreter": {
    "hash": "89377e0f0e0aadd356d36ff3606a8cb2fe15189e79029a9c5539b42322d88f16"
   }
  }
 },
 "nbformat": 4,
 "nbformat_minor": 2
}
